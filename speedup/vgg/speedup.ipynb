{
 "cells": [
  {
   "cell_type": "code",
   "execution_count": 14,
   "metadata": {},
   "outputs": [],
   "source": [
    "# speedup of resnet\n",
    "from time import time\n",
    "import pandas as pd\n",
    "\n",
    "path_ecr = \"../../ECR/ECR/time_vgg/batchsize32.txt\"\n",
    "path_pecr = \"../../PECR/pecr/time_vgg/batchsize32.txt\"\n",
    "\n",
    "time_ecr = pd.read_csv(path_ecr, header = None, dtype = float)\n",
    "time_pecr = pd.read_csv(path_pecr, header = None, dtype = float)\n",
    "\n",
    "# print(\"ecr:\",time_ecr)\n",
    "# print(\"pecr:\",time_pecr)\n",
    "time_ocpa = time_ecr\n",
    "time_ocpa.iat[1, 0] = time_pecr.iat[0, 0]\n",
    "time_ocpa.iat[3, 0] = time_pecr.iat[1, 0]\n",
    "time_ocpa.iat[7, 0] = time_pecr.iat[2, 0]\n",
    "time_ocpa.iat[11, 0] = time_pecr.iat[3, 0]\n",
    "time_ocpa.iat[15, 0] = time_pecr.iat[4, 0]\n",
    "# print(len(time_ocpa))"
   ]
  },
  {
   "cell_type": "code",
   "execution_count": 15,
   "metadata": {},
   "outputs": [],
   "source": [
    "path_tc_c = \"../../ECR/cudnn/time_vgg/batchsize32.txt\"\n",
    "path_tc_p = \"../../PECR/cudnn/time_vgg/batchsize32.txt\"\n",
    "\n",
    "time_c = pd.read_csv(path_tc_c, header=None, dtype=float)\n",
    "time_p = pd.read_csv(path_tc_p, header=None, dtype=float)\n",
    "\n",
    "time_cudnn = time_c\n",
    "time_cudnn.iat[1, 0] = time_p.iat[0, 0]\n",
    "time_cudnn.iat[3, 0] = time_p.iat[1, 0]\n",
    "time_cudnn.iat[7, 0] = time_p.iat[2, 0]\n",
    "time_cudnn.iat[11, 0] = time_p.iat[3, 0]\n",
    "time_cudnn.iat[15, 0] = time_p.iat[4, 0]\n",
    "\n",
    "# print(time_cudnn)"
   ]
  },
  {
   "cell_type": "code",
   "execution_count": 16,
   "metadata": {},
   "outputs": [
    {
     "name": "stdout",
     "output_type": "stream",
     "text": [
      "[1.1204614601705607, 2.072436172158232, 1.4266579269138169, 1.1256069401917317, 2.0022628936526115, 1.6801966982027723, 1.8091106099674696, 3.3015324385131746, 3.001852559703243, 2.8429442311561157, 2.939140449486375, 6.296791703014443, 3.849524744651925, 3.793555826235292, 3.8996271122439348, 10.146731147287506]\n"
     ]
    }
   ],
   "source": [
    "times = []\n",
    "for i in range(0, 16):\n",
    "    times.append(time_cudnn.iat[i, 0]/time_ocpa.iat[i, 0])\n",
    "print(times)"
   ]
  }
 ],
 "metadata": {
  "kernelspec": {
   "display_name": "Python 3.8.8 ('character-bert')",
   "language": "python",
   "name": "python3"
  },
  "language_info": {
   "codemirror_mode": {
    "name": "ipython",
    "version": 3
   },
   "file_extension": ".py",
   "mimetype": "text/x-python",
   "name": "python",
   "nbconvert_exporter": "python",
   "pygments_lexer": "ipython3",
   "version": "3.8.8"
  },
  "orig_nbformat": 4,
  "vscode": {
   "interpreter": {
    "hash": "3baf29512fa2210333a43a360ab6f7ac5e411fb4dc25915bce2dc40513c23ea2"
   }
  }
 },
 "nbformat": 4,
 "nbformat_minor": 2
}
